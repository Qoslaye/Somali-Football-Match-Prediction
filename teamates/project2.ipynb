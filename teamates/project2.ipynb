{
 "cells": [
  {
   "cell_type": "code",
   "execution_count": 22,
   "id": "d712bb79-e5c2-431f-b6ad-442483af90e7",
   "metadata": {},
   "outputs": [
    {
     "name": "stdout",
     "output_type": "stream",
     "text": [
      "   Season        Date              Home_Team      Away_Team  Home_Score  \\\n",
      "0    2012  2012-06-04              Elman FC    Badbaado FC            3   \n",
      "1    2012  2012-06-05             Sahafi FC     Jeenyo  FC            1   \n",
      "2    2012  2012-06-07            Heegan S.C     Dekedda SC            1   \n",
      "3    2012  2012-06-08   Mogadishu City Club    Horseed S.C            1   \n",
      "4    2012  2012-06-11            Jeenyo  FC       Elman FC            1   \n",
      "\n",
      "   Away_Score  Home_Goal_Diff  Away_Goal_Diff Result  Home_Last_5_Wins  \\\n",
      "0           1               2              -2    Win                 0   \n",
      "1           1               0               0   Draw                 0   \n",
      "2           1               0               0   Draw                 0   \n",
      "3           1               0               0   Draw                 0   \n",
      "4           1               0               0   Draw                 0   \n",
      "\n",
      "   Away_Last_5_Wins  H2H_Home_Wins  H2H_Home_Losses  H2H_Away_Wins  \\\n",
      "0                 0              0                0              0   \n",
      "1                 0              0                0              0   \n",
      "2                 0              0                0              0   \n",
      "3                 0              0                0              0   \n",
      "4                 1              0                0              0   \n",
      "\n",
      "   H2H_Away_Losses  H2H_Draws  \n",
      "0                0          0  \n",
      "1                0          0  \n",
      "2                0          0  \n",
      "3                0          0  \n",
      "4                0          0  \n",
      "Training Set Size: (708, 9)\n",
      "Testing Set Size: (177, 9)\n"
     ]
    }
   ],
   "source": [
    "import pandas as pd\n",
    "from sklearn.model_selection import train_test_split\n",
    "\n",
    "# Load dataset\n",
    "file_name = \"Updated_somali_football_data.csv\"\n",
    "df = pd.read_csv(file_name)\n",
    "\n",
    "# Display first few rows to understand the dataset\n",
    "print(df.head())\n",
    "\n",
    "# Define Features (X) and Target Variable (y)\n",
    "X = df[[\"Home_Score\", \"Away_Score\", \"Home_Goal_Diff\", \"Away_Goal_Diff\", \n",
    "        \"Home_Last_5_Wins\", \"Away_Last_5_Wins\", \"H2H_Home_Wins\", \"H2H_Away_Wins\", \"H2H_Draws\"]]  # Selected Features\n",
    "y = df[\"Result\"]  # Target Variable (Win, Draw, Loss)\n",
    "\n",
    "# Split into Training (80%) and Testing (20%) sets\n",
    "X_train, X_test, y_train, y_test = train_test_split(X, y, test_size=0.2, random_state=42)\n",
    "\n",
    "# Print the shapes of training and testing sets\n",
    "print(f\"Training Set Size: {X_train.shape}\")  # Example Output: (708, 9)\n",
    "print(f\"Testing Set Size: {X_test.shape}\")  # Example Output: (177, 9)\n"
   ]
  },
  {
   "cell_type": "code",
   "execution_count": 3,
   "id": "7d3facab-508e-4230-a043-c4a8e93fd28b",
   "metadata": {},
   "outputs": [
    {
     "name": "stdout",
     "output_type": "stream",
     "text": [
      "Training set size: (708, 9)\n",
      "Testing set size: (177, 9)\n"
     ]
    }
   ],
   "source": [
    "from sklearn.linear_model import LogisticRegression\n",
    "from sklearn.tree import DecisionTreeClassifier\n",
    "from sklearn.ensemble import RandomForestClassifier\n",
    "from sklearn.neighbors import KNeighborsClassifier\n",
    "from sklearn.svm import SVC\n",
    "import xgboost as xgb  # Install with: pip install xgboost\n",
    "\n",
    "# Load dataset (Make sure the splitting is already done)\n",
    "print(\"Training set size:\", X_train.shape)\n",
    "print(\"Testing set size:\", X_test.shape)\n"
   ]
  },
  {
   "cell_type": "code",
   "execution_count": 7,
   "id": "9e98e930-56e4-4976-9d58-70860201526f",
   "metadata": {},
   "outputs": [
    {
     "name": "stdout",
     "output_type": "stream",
     "text": [
      "Logistic Regression - Predictions: ['Loss' 'Loss' 'Draw' 'Win' 'Loss' 'Loss' 'Loss' 'Win' 'Win' 'Win']\n"
     ]
    }
   ],
   "source": [
    "log_reg = LogisticRegression(max_iter=500)\n",
    "log_reg.fit(X_train, y_train)  # Train model\n",
    "y_pred_log = log_reg.predict(X_test)  # Make predictions\n",
    "print(\"Logistic Regression - Predictions:\", y_pred_log[:10])  # Show first 10 predictions\n"
   ]
  },
  {
   "cell_type": "code",
   "execution_count": 8,
   "id": "dcdddf46-a4cc-4712-80a4-c59163ebb152",
   "metadata": {},
   "outputs": [
    {
     "name": "stdout",
     "output_type": "stream",
     "text": [
      "Decision Tree - Predictions: ['Loss' 'Loss' 'Draw' 'Win' 'Loss' 'Loss' 'Loss' 'Win' 'Win' 'Win']\n"
     ]
    }
   ],
   "source": [
    "tree = DecisionTreeClassifier(random_state=42)\n",
    "tree.fit(X_train, y_train)  # Train model\n",
    "y_pred_tree = tree.predict(X_test)  # Make predictions\n",
    "print(\"Decision Tree - Predictions:\", y_pred_tree[:10])\n"
   ]
  },
  {
   "cell_type": "code",
   "execution_count": 9,
   "id": "9fdde37b-575c-4b61-aee3-e34c6f08fba3",
   "metadata": {},
   "outputs": [
    {
     "name": "stdout",
     "output_type": "stream",
     "text": [
      "Random Forest - Predictions: ['Loss' 'Loss' 'Draw' 'Win' 'Loss' 'Loss' 'Loss' 'Win' 'Win' 'Win']\n"
     ]
    }
   ],
   "source": [
    "rf = RandomForestClassifier(n_estimators=100, random_state=42)\n",
    "rf.fit(X_train, y_train)  # Train model\n",
    "y_pred_rf = rf.predict(X_test)  # Make predictions\n",
    "print(\"Random Forest - Predictions:\", y_pred_rf[:10])\n"
   ]
  },
  {
   "cell_type": "code",
   "execution_count": 10,
   "id": "8a7cd84b-3bac-487a-b732-d8bfb50cfd2c",
   "metadata": {},
   "outputs": [
    {
     "name": "stdout",
     "output_type": "stream",
     "text": [
      "KNN - Predictions: ['Loss' 'Loss' 'Draw' 'Win' 'Loss' 'Loss' 'Loss' 'Win' 'Win' 'Win']\n"
     ]
    }
   ],
   "source": [
    "knn = KNeighborsClassifier(n_neighbors=5)  # k=5\n",
    "knn.fit(X_train, y_train)  # Train model\n",
    "y_pred_knn = knn.predict(X_test)  # Make predictions\n",
    "print(\"KNN - Predictions:\", y_pred_knn[:10])\n"
   ]
  },
  {
   "cell_type": "code",
   "execution_count": 11,
   "id": "c2c703c2-0d8e-4346-8a79-200ac5e295a8",
   "metadata": {},
   "outputs": [
    {
     "name": "stdout",
     "output_type": "stream",
     "text": [
      "SVM - Predictions: ['Loss' 'Loss' 'Draw' 'Win' 'Loss' 'Loss' 'Loss' 'Win' 'Win' 'Win']\n"
     ]
    }
   ],
   "source": [
    "svm = SVC(kernel='linear')  # Linear kernel\n",
    "svm.fit(X_train, y_train)  # Train model\n",
    "y_pred_svm = svm.predict(X_test)  # Make predictions\n",
    "print(\"SVM - Predictions:\", y_pred_svm[:10])\n"
   ]
  },
  {
   "cell_type": "code",
   "execution_count": 16,
   "id": "398dc40e-13af-4aad-be30-05b2b44ae7f9",
   "metadata": {},
   "outputs": [
    {
     "name": "stdout",
     "output_type": "stream",
     "text": [
      "XGBoost - Predictions: ['Loss' 'Loss' 'Draw' 'Win' 'Loss' 'Loss' 'Loss' 'Win' 'Win' 'Win']\n"
     ]
    }
   ],
   "source": [
    "from sklearn.preprocessing import LabelEncoder\n",
    "import xgboost as xgb\n",
    "\n",
    "# Convert target variable to numeric values\n",
    "label_encoder = LabelEncoder()\n",
    "y_train_encoded = label_encoder.fit_transform(y_train)  # Convert labels to numbers\n",
    "y_test_encoded = label_encoder.transform(y_test)  # Convert test labels\n",
    "\n",
    "# Train XGBoost model (Removed 'use_label_encoder=False')\n",
    "xgb_model = xgb.XGBClassifier(eval_metric='mlogloss')\n",
    "xgb_model.fit(X_train, y_train_encoded)  # Train model\n",
    "\n",
    "# Make predictions\n",
    "y_pred_xgb = xgb_model.predict(X_test)\n",
    "\n",
    "# Convert predictions back to original labels if needed\n",
    "y_pred_xgb_decoded = label_encoder.inverse_transform(y_pred_xgb)\n",
    "\n",
    "# Print predictions\n",
    "print(\"XGBoost - Predictions:\", y_pred_xgb_decoded[:10])\n"
   ]
  },
  {
   "cell_type": "code",
   "execution_count": 4,
   "id": "95a7e8ac-2662-4fc2-bad2-8944d6449ac3",
   "metadata": {},
   "outputs": [
    {
     "name": "stdin",
     "output_type": "stream",
     "text": [
      "Enter Home Team:  vdf\n",
      "Enter Away Team:  yulhj\n"
     ]
    },
    {
     "name": "stdout",
     "output_type": "stream",
     "text": [
      "❌ Error: One or both teams are not in the dataset. Try again.\n"
     ]
    }
   ],
   "source": [
    "\n",
    "import pandas as pd\n",
    "import numpy as np\n",
    "\n",
    "# Load dataset\n",
    "file_name = \"Updated_somali_football_data.csv\"\n",
    "df = pd.read_csv(file_name)\n",
    "\n",
    "# Normalize team names by stripping spaces\n",
    "df[\"Home_Team\"] = df[\"Home_Team\"].str.strip()\n",
    "df[\"Away_Team\"] = df[\"Away_Team\"].str.strip()\n",
    "\n",
    "# Ask user for two teams\n",
    "team_1 = input(\"Enter Home Team: \").strip()  # Strip spaces from user input\n",
    "team_2 = input(\"Enter Away Team: \").strip()\n",
    "\n",
    "# Check if teams exist in dataset\n",
    "if team_1 in df[\"Home_Team\"].values and team_2 in df[\"Away_Team\"].values:\n",
    "    # Get the match data for these teams\n",
    "    match_data = df[(df[\"Home_Team\"] == team_1) & (df[\"Away_Team\"] == team_2)]\n",
    "\n",
    "    if not match_data.empty:\n",
    "        match_data = match_data.iloc[0]  # Select the first matching row\n",
    "\n",
    "        # Extract features (Replace with actual feature columns)\n",
    "        match_features = np.array([[match_data[\"Home_Score\"], match_data[\"Away_Score\"], \n",
    "                                    match_data[\"Home_Last_5_Wins\"], match_data[\"Away_Last_5_Wins\"],\n",
    "                                    match_data[\"H2H_Home_Wins\"], match_data[\"H2H_Away_Wins\"],\n",
    "                                    match_data[\"H2H_Home_Losses\"], match_data[\"H2H_Away_Losses\"], \n",
    "                                    match_data[\"H2H_Draws\"]]])\n",
    "\n",
    "        print(f\"\\n🔹 Predicting Match: {team_1} vs {team_2}\")\n",
    "\n",
    "        # Make predictions using each model\n",
    "        print(\"Logistic Regression:\", log_reg.predict(match_features)[0])\n",
    "        print(\"Decision Tree:\", tree.predict(match_features)[0])\n",
    "        print(\"Random Forest:\", rf.predict(match_features)[0])\n",
    "        print(\"KNN:\", knn.predict(match_features)[0])\n",
    "        print(\"SVM:\", svm.predict(match_features)[0])\n",
    "        print(\"XGBoost:\", xgb_model.predict(match_features)[0])\n",
    "\n",
    "    else:\n",
    "        print(f\"❌ No match history found for {team_1} vs {team_2}.\")\n",
    "else:\n",
    "    print(\"❌ Error: One or both teams are not in the dataset. Try again.\")\n",
    "\n",
    "\n"
   ]
  },
  {
   "cell_type": "code",
   "execution_count": 6,
   "id": "7460d4e7-93c8-4ef2-99bf-be10ae01e810",
   "metadata": {},
   "outputs": [
    {
     "ename": "ValueError",
     "evalue": "Invalid classes inferred from unique values of `y`.  Expected: [0 1 2], got ['Draw' 'Loss' 'Win']",
     "output_type": "error",
     "traceback": [
      "\u001b[1;31m---------------------------------------------------------------------------\u001b[0m",
      "\u001b[1;31mValueError\u001b[0m                                Traceback (most recent call last)",
      "Cell \u001b[1;32mIn[6], line 47\u001b[0m\n\u001b[0;32m     44\u001b[0m svm\u001b[38;5;241m.\u001b[39mfit(X_train, y_train)\n\u001b[0;32m     46\u001b[0m xgb_model \u001b[38;5;241m=\u001b[39m xgb\u001b[38;5;241m.\u001b[39mXGBClassifier()\n\u001b[1;32m---> 47\u001b[0m xgb_model\u001b[38;5;241m.\u001b[39mfit(X_train, y_train)\n\u001b[0;32m     49\u001b[0m \u001b[38;5;28mprint\u001b[39m(\u001b[38;5;124m\"\u001b[39m\u001b[38;5;124m✅ Models trained successfully!\u001b[39m\u001b[38;5;124m\"\u001b[39m)\n",
      "File \u001b[1;32m~\\anaconda3\\Lib\\site-packages\\xgboost\\core.py:726\u001b[0m, in \u001b[0;36mrequire_keyword_args.<locals>.throw_if.<locals>.inner_f\u001b[1;34m(*args, **kwargs)\u001b[0m\n\u001b[0;32m    724\u001b[0m \u001b[38;5;28;01mfor\u001b[39;00m k, arg \u001b[38;5;129;01min\u001b[39;00m \u001b[38;5;28mzip\u001b[39m(sig\u001b[38;5;241m.\u001b[39mparameters, args):\n\u001b[0;32m    725\u001b[0m     kwargs[k] \u001b[38;5;241m=\u001b[39m arg\n\u001b[1;32m--> 726\u001b[0m \u001b[38;5;28;01mreturn\u001b[39;00m func(\u001b[38;5;241m*\u001b[39m\u001b[38;5;241m*\u001b[39mkwargs)\n",
      "File \u001b[1;32m~\\anaconda3\\Lib\\site-packages\\xgboost\\sklearn.py:1559\u001b[0m, in \u001b[0;36mXGBClassifier.fit\u001b[1;34m(self, X, y, sample_weight, base_margin, eval_set, verbose, xgb_model, sample_weight_eval_set, base_margin_eval_set, feature_weights)\u001b[0m\n\u001b[0;32m   1554\u001b[0m     expected_classes \u001b[38;5;241m=\u001b[39m \u001b[38;5;28mself\u001b[39m\u001b[38;5;241m.\u001b[39mclasses_\n\u001b[0;32m   1555\u001b[0m \u001b[38;5;28;01mif\u001b[39;00m (\n\u001b[0;32m   1556\u001b[0m     classes\u001b[38;5;241m.\u001b[39mshape \u001b[38;5;241m!=\u001b[39m expected_classes\u001b[38;5;241m.\u001b[39mshape\n\u001b[0;32m   1557\u001b[0m     \u001b[38;5;129;01mor\u001b[39;00m \u001b[38;5;129;01mnot\u001b[39;00m (classes \u001b[38;5;241m==\u001b[39m expected_classes)\u001b[38;5;241m.\u001b[39mall()\n\u001b[0;32m   1558\u001b[0m ):\n\u001b[1;32m-> 1559\u001b[0m     \u001b[38;5;28;01mraise\u001b[39;00m \u001b[38;5;167;01mValueError\u001b[39;00m(\n\u001b[0;32m   1560\u001b[0m         \u001b[38;5;124mf\u001b[39m\u001b[38;5;124m\"\u001b[39m\u001b[38;5;124mInvalid classes inferred from unique values of `y`.  \u001b[39m\u001b[38;5;124m\"\u001b[39m\n\u001b[0;32m   1561\u001b[0m         \u001b[38;5;124mf\u001b[39m\u001b[38;5;124m\"\u001b[39m\u001b[38;5;124mExpected: \u001b[39m\u001b[38;5;132;01m{\u001b[39;00mexpected_classes\u001b[38;5;132;01m}\u001b[39;00m\u001b[38;5;124m, got \u001b[39m\u001b[38;5;132;01m{\u001b[39;00mclasses\u001b[38;5;132;01m}\u001b[39;00m\u001b[38;5;124m\"\u001b[39m\n\u001b[0;32m   1562\u001b[0m     )\n\u001b[0;32m   1564\u001b[0m params \u001b[38;5;241m=\u001b[39m \u001b[38;5;28mself\u001b[39m\u001b[38;5;241m.\u001b[39mget_xgb_params()\n\u001b[0;32m   1566\u001b[0m \u001b[38;5;28;01mif\u001b[39;00m \u001b[38;5;28mcallable\u001b[39m(\u001b[38;5;28mself\u001b[39m\u001b[38;5;241m.\u001b[39mobjective):\n",
      "\u001b[1;31mValueError\u001b[0m: Invalid classes inferred from unique values of `y`.  Expected: [0 1 2], got ['Draw' 'Loss' 'Win']"
     ]
    }
   ],
   "source": [
    "from sklearn.model_selection import train_test_split\n",
    "from sklearn.preprocessing import StandardScaler\n",
    "from sklearn.linear_model import LogisticRegression\n",
    "from sklearn.tree import DecisionTreeClassifier\n",
    "from sklearn.ensemble import RandomForestClassifier\n",
    "from sklearn.neighbors import KNeighborsClassifier\n",
    "from sklearn.svm import SVC\n",
    "import xgboost as xgb\n",
    "\n",
    "# Load dataset\n",
    "file_name = \"Updated_somali_football_data.csv\"\n",
    "df = pd.read_csv(file_name)\n",
    "\n",
    "# Feature Selection (replace with actual features from your dataset)\n",
    "features = [\"Home_Score\", \"Away_Score\", \"Home_Last_5_Wins\", \"Away_Last_5_Wins\",\n",
    "            \"H2H_Home_Wins\", \"H2H_Away_Wins\", \"H2H_Home_Losses\", \"H2H_Away_Losses\", \"H2H_Draws\"]\n",
    "target = \"Result\"  # Assuming 'Result' is the target variable\n",
    "\n",
    "X = df[features]\n",
    "y = df[target]\n",
    "\n",
    "# Split data (80% training, 20% testing)\n",
    "X_train, X_test, y_train, y_test = train_test_split(X, y, test_size=0.2, random_state=42)\n",
    "\n",
    "# Standardize the data for better performance\n",
    "scaler = StandardScaler()\n",
    "X_train = scaler.fit_transform(X_train)\n",
    "X_test = scaler.transform(X_test)\n",
    "\n",
    "# Train all six models\n",
    "log_reg = LogisticRegression()\n",
    "log_reg.fit(X_train, y_train)\n",
    "\n",
    "tree = DecisionTreeClassifier()\n",
    "tree.fit(X_train, y_train)\n",
    "\n",
    "rf = RandomForestClassifier()\n",
    "rf.fit(X_train, y_train)\n",
    "\n",
    "knn = KNeighborsClassifier()\n",
    "knn.fit(X_train, y_train)\n",
    "\n",
    "svm = SVC()\n",
    "svm.fit(X_train, y_train)\n",
    "\n",
    "xgb_model = xgb.XGBClassifier()\n",
    "xgb_model.fit(X_train, y_train)\n",
    "\n",
    "print(\"✅ Models trained successfully!\")\n"
   ]
  },
  {
   "cell_type": "code",
   "execution_count": 12,
   "id": "898460a4-19ab-47d4-8497-52ebedc3dba4",
   "metadata": {},
   "outputs": [
    {
     "name": "stdout",
     "output_type": "stream",
     "text": [
      "\n",
      "✅ Data split successfully!\n",
      "Training Set Size: (708, 8)\n",
      "Testing Set Size: (177, 8)\n",
      "\n",
      "✅ Models trained successfully!\n"
     ]
    },
    {
     "name": "stdin",
     "output_type": "stream",
     "text": [
      "Enter Home Team:  Badbaado FC\n",
      "Enter Away Team:  \tElman FC\n"
     ]
    },
    {
     "name": "stdout",
     "output_type": "stream",
     "text": [
      "\n",
      "🔹 Predicting Match: Badbaado Fc vs Elman Fc\n",
      "Logistic Regression: Draw\n",
      "Decision Tree: Draw\n",
      "Random Forest: Draw\n",
      "KNN: Draw\n",
      "SVM: Draw\n",
      "XGBoost: Draw\n"
     ]
    }
   ],
   "source": [
    "import pandas as pd\n",
    "import numpy as np\n",
    "from sklearn.model_selection import train_test_split\n",
    "from sklearn.preprocessing import LabelEncoder\n",
    "from sklearn.linear_model import LogisticRegression\n",
    "from sklearn.tree import DecisionTreeClassifier\n",
    "from sklearn.ensemble import RandomForestClassifier\n",
    "from sklearn.neighbors import KNeighborsClassifier\n",
    "from sklearn.svm import SVC\n",
    "import xgboost as xgb\n",
    "\n",
    "# 📌 Step 1: Load Dataset\n",
    "df = pd.read_csv(\"Updated_somali_football_data.csv\")\n",
    "\n",
    "# 📌 Step 2: Data Cleaning (Ensure Team Names Are Consistent)\n",
    "df[\"Home_Team\"] = df[\"Home_Team\"].str.strip().str.lower()\n",
    "df[\"Away_Team\"] = df[\"Away_Team\"].str.strip().str.lower()\n",
    "\n",
    "# 📌 Step 3: Define Features & Target Variable\n",
    "features = [\"Home_Team\", \"Away_Team\", \"Home_Score\", \"Away_Score\", \"Home_Goal_Diff\", \n",
    "            \"Away_Goal_Diff\", \"Home_Last_5_Wins\", \"Away_Last_5_Wins\"]\n",
    "target = \"Result\"\n",
    "\n",
    "# Encode Team Names & Result Labels\n",
    "encoder_team = LabelEncoder()\n",
    "df[\"Home_Team\"] = encoder_team.fit_transform(df[\"Home_Team\"])\n",
    "df[\"Away_Team\"] = encoder_team.transform(df[\"Away_Team\"])\n",
    "\n",
    "encoder_result = LabelEncoder()\n",
    "df[\"Result\"] = encoder_result.fit_transform(df[\"Result\"])  # Converts 'Win', 'Draw', 'Loss' to numbers\n",
    "\n",
    "# 📌 Step 4: Split Data (80% Train, 20% Test)\n",
    "X = df[features]\n",
    "y = df[target]\n",
    "\n",
    "X_train, X_test, y_train, y_test = train_test_split(X, y, test_size=0.2, random_state=42, stratify=y)\n",
    "print(f\"\\n✅ Data split successfully!\\nTraining Set Size: {X_train.shape}\\nTesting Set Size: {X_test.shape}\")\n",
    "\n",
    "# 📌 Step 5: Train Models\n",
    "log_reg = LogisticRegression()\n",
    "tree = DecisionTreeClassifier()\n",
    "rf = RandomForestClassifier()\n",
    "knn = KNeighborsClassifier()\n",
    "svm = SVC()\n",
    "xgb_model = xgb.XGBClassifier(eval_metric=\"mlogloss\")  # ✅ Removed use_label_encoder=False to fix warning\n",
    "\n",
    "models = {\"Logistic Regression\": log_reg, \"Decision Tree\": tree, \"Random Forest\": rf, \n",
    "          \"KNN\": knn, \"SVM\": svm, \"XGBoost\": xgb_model}\n",
    "\n",
    "for name, model in models.items():\n",
    "    model.fit(X_train, y_train)\n",
    "\n",
    "print(\"\\n✅ Models trained successfully!\")\n",
    "\n",
    "# 📌 Step 6: Predict Match Result (User Input)\n",
    "def predict_match(home_team, away_team):\n",
    "    home_team = home_team.strip().lower()\n",
    "    away_team = away_team.strip().lower()\n",
    "\n",
    "    if home_team not in encoder_team.classes_ or away_team not in encoder_team.classes_:\n",
    "        print(\"\\n❌ Error: One or both teams are not in the dataset. Try again.\")\n",
    "        return\n",
    "\n",
    "    home_encoded = encoder_team.transform([home_team])[0]\n",
    "    away_encoded = encoder_team.transform([away_team])[0]\n",
    "\n",
    "    # ✅ Convert match_features into a DataFrame to fix Scikit-Learn warnings\n",
    "    match_features = pd.DataFrame([[home_encoded, away_encoded, 0, 0, 0, 0, 0, 0]], columns=features)\n",
    "\n",
    "    print(f\"\\n🔹 Predicting Match: {home_team.title()} vs {away_team.title()}\")\n",
    "    for name, model in models.items():\n",
    "        prediction = model.predict(match_features)[0]\n",
    "        predicted_label = encoder_result.inverse_transform([prediction])[0]\n",
    "        print(f\"{name}: {predicted_label}\")\n",
    "\n",
    "# 📌 Step 7: User Input for Prediction\n",
    "team_1 = input(\"Enter Home Team: \").strip().lower()\n",
    "team_2 = input(\"Enter Away Team: \").strip().lower()\n",
    "\n",
    "predict_match(team_1, team_2)\n"
   ]
  }
 ],
 "metadata": {
  "kernelspec": {
   "display_name": "Python 3 (ipykernel)",
   "language": "python",
   "name": "python3"
  },
  "language_info": {
   "codemirror_mode": {
    "name": "ipython",
    "version": 3
   },
   "file_extension": ".py",
   "mimetype": "text/x-python",
   "name": "python",
   "nbconvert_exporter": "python",
   "pygments_lexer": "ipython3",
   "version": "3.12.4"
  }
 },
 "nbformat": 4,
 "nbformat_minor": 5
}
